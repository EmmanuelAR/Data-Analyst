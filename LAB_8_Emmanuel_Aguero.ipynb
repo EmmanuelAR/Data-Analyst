{
  "nbformat": 4,
  "nbformat_minor": 0,
  "metadata": {
    "colab": {
      "name": "LAB_8_Emmanuel_Aguero.ipynb",
      "provenance": [],
      "authorship_tag": "ABX9TyM1uFGwYp5n/4tLcYkay57a",
      "include_colab_link": true
    },
    "kernelspec": {
      "name": "python3",
      "display_name": "Python 3"
    },
    "language_info": {
      "name": "python"
    }
  },
  "cells": [
    {
      "cell_type": "markdown",
      "metadata": {
        "id": "view-in-github",
        "colab_type": "text"
      },
      "source": [
        "<a href=\"https://colab.research.google.com/github/EmmanuelAR/Data-Analyst/blob/main/LAB_8_Emmanuel_Aguero.ipynb\" target=\"_parent\"><img src=\"https://colab.research.google.com/assets/colab-badge.svg\" alt=\"Open In Colab\"/></a>"
      ]
    },
    {
      "cell_type": "markdown",
      "source": [
        "# **Laboratorio 8**"
      ],
      "metadata": {
        "id": "s8XacgQqBRZg"
      }
    },
    {
      "cell_type": "markdown",
      "source": [
        "### Emmanuel Aguero Rojas 117790953"
      ],
      "metadata": {
        "id": "Vh2fZU7kBbLj"
      }
    },
    {
      "cell_type": "code",
      "execution_count": 2,
      "metadata": {
        "id": "UHVGrOroA8za"
      },
      "outputs": [],
      "source": [
        "import pandas as pd\n",
        "from google.colab import auth\n",
        "import gspread\n",
        "from google.auth import default \n",
        "\n",
        "auth.authenticate_user()\n",
        "creds, _= default ()\n",
        "gc= gspread.authorize(creds)\n",
        "sh=gc.create('EmmanuelAgueroRojas')\n"
      ]
    },
    {
      "cell_type": "code",
      "source": [
        "from gspread.models import Worksheet\n",
        "import random\n",
        "\n",
        "\n",
        "worksheet = gc.open('EmmanuelAgueroRojas').sheet1\n",
        "cell_list = worksheet.range('A1:C10')\n",
        "\n",
        "for cell in cell_list:\n",
        "  cell.value = random.randint(1,5)\n",
        "\n",
        "worksheet.update_cells(cell_list)"
      ],
      "metadata": {
        "colab": {
          "base_uri": "https://localhost:8080/"
        },
        "id": "DVEeYS8jElUl",
        "outputId": "15f41356-ec4d-4aee-bed5-6d68362d7609"
      },
      "execution_count": 14,
      "outputs": [
        {
          "output_type": "execute_result",
          "data": {
            "text/plain": [
              "{'spreadsheetId': '1cdZ5gxVc8mvbDfTEtTSGS_fQlZZ8t0Ycn0pP6KQ5DGo',\n",
              " 'updatedCells': 30,\n",
              " 'updatedColumns': 3,\n",
              " 'updatedRange': \"'Hoja 1'!A1:C10\",\n",
              " 'updatedRows': 10}"
            ]
          },
          "metadata": {},
          "execution_count": 14
        }
      ]
    },
    {
      "cell_type": "code",
      "source": [
        "worksheet = gc.open('EmmanuelAgueroRojas').sheet1\n",
        "rows=worksheet.get_all_values()\n",
        "print(rows)"
      ],
      "metadata": {
        "colab": {
          "base_uri": "https://localhost:8080/"
        },
        "id": "D-o51xQ6H3mP",
        "outputId": "00a6617e-0a14-4d9c-e0cb-6a9a4fed15de"
      },
      "execution_count": 13,
      "outputs": [
        {
          "output_type": "stream",
          "name": "stdout",
          "text": [
            "[['2', '2', '5'], ['4', '4', '3'], ['1', '4', '3'], ['2', '2', '2'], ['4', '4', '2'], ['2', '4', '4'], ['3', '1', '1'], ['5', '4', '2'], ['4', '4', '1'], ['3', '1', '3']]\n"
          ]
        }
      ]
    }
  ]
}